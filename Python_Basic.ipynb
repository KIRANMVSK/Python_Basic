{
 "cells": [
  {
   "cell_type": "markdown",
   "id": "8c41d049-9dd8-4029-a45f-67837444e4f8",
   "metadata": {},
   "source": [
    " topic: python basic variable"
   ]
  },
  {
   "cell_type": "code",
   "execution_count": 3,
   "id": "699ae7de-cfe1-4f72-acb0-30d0ab2a2cb3",
   "metadata": {},
   "outputs": [
    {
     "name": "stdin",
     "output_type": "stream",
     "text": [
      "enter the value of first variable: 20\n"
     ]
    },
    {
     "name": "stdout",
     "output_type": "stream",
     "text": [
      " the value of a before swapping: 20\n"
     ]
    },
    {
     "name": "stdin",
     "output_type": "stream",
     "text": [
      "enter the value of second variable: 10\n"
     ]
    },
    {
     "name": "stdout",
     "output_type": "stream",
     "text": [
      " the value of b before swapping: 10\n",
      " the value of a after swapping: 10\n",
      " the value of b after swapping: 20\n"
     ]
    }
   ],
   "source": [
    "\"\"\" 1.Declaring two variables, `x` and `y`, and assigning  them integer values. Swapping the\n",
    "values of these variables without using any temporary variable.\n",
    "\"\"\"\n",
    "\n",
    "# taking value of first variable from user  and storing in variable a\n",
    "a=int(input(\"enter the value of first variable:\"))\n",
    "print(\" the value of a before swapping:\",a)\n",
    "#taking value of second variable from user and storing in variable b\n",
    "b=int(input(\"enter the value of second variable:\"))\n",
    "print(\" the value of b before swapping:\",b)\n",
    "#swapping the values of a and b without using extra variable\n",
    "\n",
    "#swapping of values of a and b using operators\n",
    "\n",
    "a=a+b\n",
    "b=a-b\n",
    "a=a-b\n",
    "\n",
    "# the values are swapped\n",
    "\n",
    "print(\" the value of a after swapping:\",a)\n",
    "print(\" the value of b after swapping:\",b)"
   ]
  },
  {
   "cell_type": "code",
   "execution_count": 4,
   "id": "082c4c74-05b0-4423-9823-5d918c653207",
   "metadata": {},
   "outputs": [
    {
     "name": "stdin",
     "output_type": "stream",
     "text": [
      " enter the length of rectangle: 10\n",
      " enter the breadth of rectangle: 5\n"
     ]
    },
    {
     "name": "stdout",
     "output_type": "stream",
     "text": [
      " the length of rectangle: 10\n",
      " the breadth of rectangle: 5\n",
      " the area of rectangle is: 50\n"
     ]
    }
   ],
   "source": [
    "\"\"\"2.Creating a program that calculates the area of a rectangle. Taking the length and\n",
    "width as inputs from the user and storing them in variables and calculating area \"\"\"\n",
    "\n",
    "#taking the value of length from user and storing in variable a\n",
    "a=int(input(\" enter the length of rectangle:\"))\n",
    "\n",
    "#taking the value of breadth from user and storing in variable b\n",
    "b=int(input(\" enter the breadth of rectangle:\"))\n",
    "\n",
    "#calculating area and storing in variable c\n",
    "#area of rectangle =length*breadth\n",
    "\n",
    "c=a*b\n",
    "\n",
    "#displaying length of rectangle\n",
    "print(\" the length of rectangle:\",a)\n",
    "\n",
    "#displaying breadth of rectangle\n",
    "print(\" the breadth of rectangle:\",b)\n",
    "\n",
    "#displaying area\n",
    "print(\" the area of rectangle is:\",c)"
   ]
  },
  {
   "cell_type": "code",
   "execution_count": 5,
   "id": "472b351a-3d66-4bd2-9dbe-d9ff798e872a",
   "metadata": {},
   "outputs": [
    {
     "name": "stdin",
     "output_type": "stream",
     "text": [
      " enter the temperature in celsius 37\n"
     ]
    },
    {
     "name": "stdout",
     "output_type": "stream",
     "text": [
      " temperature in celsius 37.0\n",
      " the temperature in farenheit is 98.60\n"
     ]
    }
   ],
   "source": [
    "\"\"\"3.Writing a Python program that converts temperatures from Celsius to\n",
    "Fahrenheit and taking the temperature in Celsius as input, store it in a variable\"\"\"\n",
    "\n",
    "#taking the temperature from the user in celsius \n",
    "#storing celsius value in variable celsius\n",
    "\n",
    "celsius_temp = float(input(\" enter the temperature in celsius\"))\n",
    "\n",
    "\"\"\"for converting the temperature from celsius to fareanheit \n",
    "we use the below formulae \"\"\"\n",
    "\n",
    " #farenheit = (celsius*1.8)+32\n",
    "\n",
    "\n",
    "farenheit_temp=(celsius_temp*1.8)+32\n",
    "\n",
    "#displaying temperature in celsius\n",
    "\n",
    "print(\" temperature in celsius\",celsius_temp)\n",
    "\n",
    "#displaying temperature in farenheit upto two deciaml values \n",
    "\n",
    "print(\" the temperature in farenheit is %.2f\" %(farenheit_temp))\n"
   ]
  },
  {
   "cell_type": "markdown",
   "id": "f278bf09-98a7-4e96-98a0-d43e2ba38c94",
   "metadata": {},
   "source": [
    "STRING BASED QUESTIONS"
   ]
  },
  {
   "cell_type": "code",
   "execution_count": 6,
   "id": "4bf35527-e716-4357-b539-f9ee662e09e6",
   "metadata": {},
   "outputs": [
    {
     "name": "stdin",
     "output_type": "stream",
     "text": [
      " enter the string: sai\n"
     ]
    },
    {
     "name": "stdout",
     "output_type": "stream",
     "text": [
      " the string is: sai\n",
      " the length of string is: 3\n"
     ]
    }
   ],
   "source": [
    "\"\"\"1.Writing a Python program that takes a string as input and prints the length of\n",
    " the string \"\"\"\n",
    "\n",
    "# taking string from user and storing in variable a\n",
    "    \n",
    "a=input(\" enter the string:\")\n",
    "    \n",
    "#displaying string\n",
    "print(\" the string is:\",a)\n",
    "    \n",
    "# storing the length of string in variable l\n",
    "#to calcualte length of string we can use builtin function len(string_name)\n",
    "    \n",
    "l=len(a)\n",
    "\n",
    "#displaying length of string\n",
    "\n",
    "print(\" the length of string is:\",l)"
   ]
  },
  {
   "cell_type": "code",
   "execution_count": 7,
   "id": "374cb695-2f4c-4d25-9025-bf6aeb5b8b23",
   "metadata": {},
   "outputs": [
    {
     "name": "stdin",
     "output_type": "stream",
     "text": [
      "Enter the string : kiran\n"
     ]
    },
    {
     "name": "stdout",
     "output_type": "stream",
     "text": [
      "Total vowels are : 2\n"
     ]
    }
   ],
   "source": [
    "\"\"\"2.Creating a program that takes a sentence from the user and counts the number\n",
    "of vowels (a, e, i, o, u) in the string.\"\"\"\n",
    "\n",
    "\n",
    "\n",
    "\n",
    "#taking a sentence fom user and storing in variable string\n",
    "\n",
    "String = input('Enter the string :')\n",
    "\n",
    "#intially count variable is 0 \n",
    "#count variable  gives the no of vowels in the string, for that we traverse the string \n",
    "count = 0\n",
    "\n",
    "#traversing string , if vowels are found count variable value increases by 1 for every vowel detected\n",
    "for i in String:\n",
    "    if i == 'a' or i=='A' or i == 'e' or i=='E' or i == 'i' or i=='I' or  i == 'o' or i=='O' or  i == 'u' or i=='U':\n",
    "        #if True\n",
    "        count+=1\n",
    "#check if any vowel found\n",
    "if count == 0:\n",
    "    print('No vowels found')\n",
    "#if any vowel is found else block executes and gives no of vowels in the string \n",
    "else:\n",
    "    print('Total vowels are :',count)"
   ]
  },
  {
   "cell_type": "code",
   "execution_count": 11,
   "id": "e2073a55-7810-4341-89be-c00d814afa11",
   "metadata": {},
   "outputs": [
    {
     "name": "stdin",
     "output_type": "stream",
     "text": [
      "enter the string mandapati \n"
     ]
    },
    {
     "name": "stdout",
     "output_type": "stream",
     "text": [
      " the original string is : mandapati \n",
      " the reversed string is   itapadnam\n"
     ]
    }
   ],
   "source": [
    "\"\"\"3.reversing  the order of characters of a given string  using string slicing\n",
    "and printing the reversed string \"\"\"\n",
    "\n",
    "string_1=input(\"enter the string\")\n",
    "#displaying the original string\n",
    "print(\" the original string is :\",string_1)\n",
    "\n",
    "#storing reversed string in variable string_rev\n",
    "#here we used negative slicing ,it helps to begin slicing from the end of string \n",
    "#-1 negative index  gives the last character of string  and -len(string) negative index  gives the first character of string \n",
    "#slicing has three arguments    start ,stop,step\n",
    "string_rev=string_1[-1::-1]\n",
    "#displaying reversed string \n",
    "print(\" the reversed string is \",string_rev)\n",
    "\n",
    "\n"
   ]
  },
  {
   "cell_type": "code",
   "execution_count": 15,
   "id": "04616adb-8a61-4321-8f13-9190dc088ea8",
   "metadata": {},
   "outputs": [
    {
     "name": "stdin",
     "output_type": "stream",
     "text": [
      "Enter a letter: kiran\n"
     ]
    },
    {
     "name": "stdout",
     "output_type": "stream",
     "text": [
      "The letter is not a palindrome\n"
     ]
    }
   ],
   "source": [
    "\"\"\"4.writing a program that takes a string as input and checks if it is a palindrome\n",
    "(reads the same forwards and backwards).\"\"\"\n",
    "\n",
    "\n",
    "\"\"\"palindrome means reverse of string is same as original string\n",
    "example DAD  \n",
    "Original string is DAD\n",
    "reverse order is also DAD\n",
    "\"\"\"\n",
    "\n",
    "\n",
    "#taking string from user and storing in variable string\n",
    "string=input((\"Enter a letter:\"))  \n",
    "\n",
    "#here we used  slicing operation \n",
    "#negative slicing helps us in accessing string from the end of string\n",
    "#here we sliced whole string from the end \n",
    "\n",
    "#if condition checks whether the string is same from forward and backwards\n",
    "if(string==string[::-1]):  \n",
    "      print(\"The letter is a palindrome\")\n",
    "\n",
    "#if string are not equal else block executes\n",
    "\n",
    "else:  \n",
    "      print(\"The letter is not a palindrome\")  "
   ]
  },
  {
   "cell_type": "code",
   "execution_count": 14,
   "id": "7d78569c-f90b-4837-a5e2-7fcbf06436dd",
   "metadata": {},
   "outputs": [
    {
     "name": "stdin",
     "output_type": "stream",
     "text": [
      " enter the string: sudhansh____    sir\n"
     ]
    },
    {
     "name": "stdout",
     "output_type": "stream",
     "text": [
      " the string user entered: sudhansh____    sir\n",
      "String after removing all the white spaces : sudhansh____sir\n"
     ]
    }
   ],
   "source": [
    "\"\"\"5. creating a program that takes a string as input and removes all the spaces from\n",
    "it. Print the modified string without spaces.\n",
    "\"\"\"\n",
    "\n",
    "\n",
    "#taking string from user\n",
    "str1 = input(\" enter the string:\");  \n",
    "\n",
    "#displaying string that user has entered\n",
    "\n",
    "print(\" the string user entered:\",str1)\n",
    "   \n",
    "#Using in-built function in python  \n",
    "#string.replace(old_value,new_value) is an in-built function in python  .It replaces all oldvalues with that given newvalue \n",
    "#Here, we are replacing space character with blank  \n",
    "\n",
    "str1 = str1.replace(\" \",\"\"); \n",
    "print(\"String after removing all the white spaces : \" + str1);  \n",
    "          "
   ]
  },
  {
   "cell_type": "code",
   "execution_count": null,
   "id": "00e7bf0f-8ce3-4f3a-a924-c61004577e5a",
   "metadata": {},
   "outputs": [],
   "source": []
  }
 ],
 "metadata": {
  "kernelspec": {
   "display_name": "Python 3 (ipykernel)",
   "language": "python",
   "name": "python3"
  },
  "language_info": {
   "codemirror_mode": {
    "name": "ipython",
    "version": 3
   },
   "file_extension": ".py",
   "mimetype": "text/x-python",
   "name": "python",
   "nbconvert_exporter": "python",
   "pygments_lexer": "ipython3",
   "version": "3.10.8"
  }
 },
 "nbformat": 4,
 "nbformat_minor": 5
}
